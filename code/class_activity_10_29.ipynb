{
 "cells": [
  {
   "cell_type": "code",
   "execution_count": 1,
   "metadata": {},
   "outputs": [],
   "source": [
    "import os\n",
    "import glob\n",
    "import re\n",
    "path = '../summarization_dataset_duc_2004/test_docs'\n",
    "gspath = '../summarization_dataset_duc_2004/gold_summaries'"
   ]
  },
  {
   "cell_type": "code",
   "execution_count": 2,
   "metadata": {},
   "outputs": [],
   "source": [
    "def listdir_nohidden(p):\n",
    "    return glob.glob(os.path.join(p, '*'))"
   ]
  },
  {
   "cell_type": "code",
   "execution_count": 3,
   "metadata": {},
   "outputs": [
    {
     "name": "stdout",
     "output_type": "stream",
     "text": [
      "['../summarization_dataset_duc_2004/test_docs/d30002t', '../summarization_dataset_duc_2004/test_docs/d30001t', '../summarization_dataset_duc_2004/test_docs/d30003t']\n"
     ]
    }
   ],
   "source": [
    "all_dirs = listdir_nohidden(path)\n",
    "print(all_dirs)"
   ]
  },
  {
   "cell_type": "code",
   "execution_count": 4,
   "metadata": {},
   "outputs": [
    {
     "name": "stdout",
     "output_type": "stream",
     "text": [
      "['APW19981102.0737', 'APW19981029.0570', 'APW19981103.0526', 'APW19981105.1220', 'APW19981028.1120', 'APW19981027.0241', 'APW19981104.0539', 'APW19981031.0720', 'APW19981101.0843', 'APW19981106.0869']\n"
     ]
    }
   ],
   "source": [
    "def get_file_names(d):\n",
    "    all_files = os.listdir(d)\n",
    "    #lst = all_files.split('\\n')\n",
    "    if '.DS_Store' in all_files:\n",
    "        all_files.remove('.DS_Store')\n",
    "    return all_files\n",
    "\n",
    "some_files = get_file_names(all_dirs[0])\n",
    "print(some_files)"
   ]
  },
  {
   "cell_type": "code",
   "execution_count": 5,
   "metadata": {},
   "outputs": [
    {
     "name": "stdout",
     "output_type": "stream",
     "text": [
      "['../summarization_dataset_duc_2004/gold_summaries/d30002t', '../summarization_dataset_duc_2004/gold_summaries/d30001t', '../summarization_dataset_duc_2004/gold_summaries/d30003t']\n",
      "d30002t\n",
      "['D30002.P.10.T.E.APW19981106.0869.html', 'D30002.P.10.T.C.APW19981027.0241.html', 'D30002.P.10.T.C.APW19981104.0539.html', 'D30002.P.10.T.E.APW19981029.0570.html', 'D30002.P.10.T.C.APW19981028.1120.html', 'D30002.P.10.T.E.APW19981031.0720.html', 'D30002.P.10.T.E.APW19981105.1220.html', 'D30002.P.10.T.A.APW19981027.0241.html', 'D30002.P.10.T.A.APW19981104.0539.html', 'D30002.P.10.T.A.APW19981028.1120.html', 'D30002.P.10.T.E.APW19981101.0843.html', 'D30002.P.10.T.A.APW19981029.0570.html', 'D30002.P.10.T.B.APW19981103.0526.html', 'D30002.P.10.T.C.APW19981101.0843.html', 'D30002.P.10.T.A.APW19981031.0720.html', 'D30002.P.10.T.B.APW19981102.0737.html', 'D30002.P.10.T.C.APW19981105.1220.html', 'D30002.P.10.T.A.APW19981106.0869.html', 'D30002.P.10.T.E.APW19981028.1120.html', 'D30002.P.10.T.A.APW19981101.0843.html', 'D30002.P.10.T.C.APW19981031.0720.html', 'D30002.P.10.T.C.APW19981029.0570.html', 'D30002.P.10.T.E.APW19981027.0241.html', 'D30002.P.10.T.E.APW19981104.0539.html', 'D30002.P.10.T.C.APW19981106.0869.html', 'D30002.P.10.T.A.APW19981105.1220.html', 'D30002.P.10.T.B.APW19981028.1120.html', 'D30002.P.10.T.B.APW19981027.0241.html', 'D30002.P.10.T.B.APW19981104.0539.html', 'D30002.P.10.T.E.APW19981103.0526.html', 'D30002.P.10.T.E.APW19981102.0737.html', 'D30002.P.10.T.B.APW19981105.1220.html', 'D30002.P.10.T.C.APW19981102.0737.html', 'D30002.P.10.T.B.APW19981101.0843.html', 'D30002.P.10.T.C.APW19981103.0526.html', 'D30002.P.10.T.B.APW19981106.0869.html', 'D30002.P.10.T.A.APW19981102.0737.html', 'D30002.P.10.T.B.APW19981031.0720.html', 'D30002.P.10.T.A.APW19981103.0526.html', 'D30002.P.10.T.B.APW19981029.0570.html']\n"
     ]
    }
   ],
   "source": [
    "#get corresponding human-written summary files\n",
    "gs_dirs = listdir_nohidden(gspath)\n",
    "print(gs_dirs)\n",
    "\n",
    "cor_summary_dir = os.path.split(all_dirs[0])[-1]\n",
    "print(cor_summary_dir)\n",
    "some_standard_summary_output = get_file_names(gspath+'/'+cor_summary_dir)\n",
    "print(some_standard_summary_output)"
   ]
  },
  {
   "cell_type": "code",
   "execution_count": 10,
   "metadata": {},
   "outputs": [
    {
     "name": "stdout",
     "output_type": "stream",
     "text": [
      "['<DOC>\\n', '<DOCNO> APW19981102.0737 </DOCNO>\\n', '<DOCTYPE> NEWS </DOCTYPE>\\n', '<TXTTYPE> NEWSWIRE </TXTTYPE>\\n', '<TEXT>\\n', 'Nicaraguan Vice President Enrique Bolanos said Sunday night that between \\n', '1,000 and 1,500 people were buried in a 32-square mile (82.88 square-kilometer) \\n', 'area below the slopes of the Casita volcano in northern Nicaragua. \\n', 'That is in addition to least another 600 people elsewhere in the country, \\n', 'Bolanos said. \\n', '</TEXT>\\n', '</DOC>\\n']\n",
      "12\n"
     ]
    }
   ],
   "source": [
    "#read documents\n",
    "file_0 = some_files[0]\n",
    "f = open(all_dirs[0] + '/' + file_0, 'r')\n",
    "text = f.readlines()\n",
    "f.close()\n",
    "print(text)\n",
    "print(len(text))"
   ]
  },
  {
   "cell_type": "code",
   "execution_count": 11,
   "metadata": {},
   "outputs": [
    {
     "name": "stdout",
     "output_type": "stream",
     "text": [
      "['<DOC>\\n', '<DOCNO> APW19981102.0737 </DOCNO>\\n', '<DOCTYPE> NEWS </DOCTYPE>\\n', '<TXTTYPE> NEWSWIRE </TXTTYPE>\\n', '<TEXT>\\n', 'Nicaraguan Vice President Enrique Bolanos said Sunday night that between \\n', '1,000 and 1,500 people were buried in a 32-square mile (82.88 square-kilometer) \\n', 'area below the slopes of the Casita volcano in northern Nicaragua. \\n', 'That is in addition to least another 600 people elsewhere in the country, \\n', 'Bolanos said. \\n']\n",
      "5\n",
      "['Nicaraguan Vice President Enrique Bolanos said Sunday night that between \\n', '1,000 and 1,500 people were buried in a 32-square mile (82.88 square-kilometer) \\n', 'area below the slopes of the Casita volcano in northern Nicaragua. \\n', 'That is in addition to least another 600 people elsewhere in the country, \\n', 'Bolanos said. \\n']\n"
     ]
    }
   ],
   "source": [
    "#cleaning\n",
    "text = text[:-2]\n",
    "print(text)\n",
    "text = text[5:]\n",
    "print(len(text))\n",
    "print(text)"
   ]
  },
  {
   "cell_type": "code",
   "execution_count": 12,
   "metadata": {},
   "outputs": [
    {
     "name": "stdout",
     "output_type": "stream",
     "text": [
      "['Nicaraguan Vice President Enrique Bolanos said Sunday night that between', '1,000 and 1,500 people were buried in a 32-square mile (82.88 square-kilometer)', 'area below the slopes of the Casita volcano in northern Nicaragua.', 'That is in addition to least another 600 people elsewhere in the country,', 'Bolanos said.']\n"
     ]
    }
   ],
   "source": [
    "text=[t[:-2] for t in text]\n",
    "print(text)"
   ]
  },
  {
   "cell_type": "code",
   "execution_count": 13,
   "metadata": {},
   "outputs": [
    {
     "name": "stdout",
     "output_type": "stream",
     "text": [
      "['D30002.P.10.T.B.APW19981102.0737.html', 'D30002.P.10.T.E.APW19981102.0737.html', 'D30002.P.10.T.C.APW19981102.0737.html', 'D30002.P.10.T.A.APW19981102.0737.html']\n"
     ]
    }
   ],
   "source": [
    "#read human summary filenames for file_0\n",
    "standard_summaries_file_0 = []\n",
    "for fname in some_standard_summary_output:\n",
    "    if file_0 in fname:\n",
    "        #print(fname)\n",
    "        standard_summaries_file_0.append(fname)\n",
    "print(standard_summaries_file_0)"
   ]
  },
  {
   "cell_type": "code",
   "execution_count": 14,
   "metadata": {},
   "outputs": [
    {
     "name": "stdout",
     "output_type": "stream",
     "text": [
      "APW19981102.0737\n",
      "D30002.P.10.T.B.APW19981102.0737.html\n",
      " In Nicaragua, 1,000 to 1,500 buried near Casita volcano, 600 elsewhere.\n",
      "\n",
      "APW19981102.0737\n",
      "D30002.P.10.T.E.APW19981102.0737.html\n",
      " A Nicaraguan volcano buried 1500 people below its slopes and 600 elsewhere\n",
      "\n",
      "APW19981102.0737\n",
      "D30002.P.10.T.C.APW19981102.0737.html\n",
      " Nicaraguan Vice President reports deaths of up to 1,500 in mud slide\n",
      "\n",
      "APW19981102.0737\n",
      "D30002.P.10.T.A.APW19981102.0737.html\n",
      " Nicaraguan Vice President reports thousands buried in country\n",
      "\n"
     ]
    }
   ],
   "source": [
    "#read human summaries\n",
    "for f in standard_summaries_file_0:\n",
    "    #print(f)\n",
    "    if file_0 in f:\n",
    "        print(file_0)\n",
    "        print(f)\n",
    "        p = open(gspath+'/'+ cor_summary_dir +'/'+ f, 'r')\n",
    "        sl = p.readlines()\n",
    "        p.close()\n",
    "        sl = sl[5:-2]\n",
    "        only_summary = sl[0]\n",
    "        only_summary = re.sub('\\<.+?\\>', '', only_summary)\n",
    "        only_summary = only_summary[3:]\n",
    "        print(only_summary)\n",
    "\n"
   ]
  },
  {
   "cell_type": "code",
   "execution_count": 10,
   "metadata": {},
   "outputs": [],
   "source": [
    "#write a function to calculate the KAPPA coeffieicents between each pair of human annotators for each document\n"
   ]
  },
  {
   "cell_type": "code",
   "execution_count": 11,
   "metadata": {},
   "outputs": [],
   "source": [
    "# implement PAGE RANK like algorithm to rank the sentences in each document and return the one with highest score as \n",
    "#the summary of the document\n",
    "# if that sounds scary, do the following:\n",
    "# find the words in a document \n",
    "# define normalized-tf\n",
    "# for each sentence:\n",
    "#  calculate a score by adding the normalized tf-score of the words present in the document\n",
    "# for each sentence divide the total sentence score by the number of words (normalize as longer sentences might get more scores)\n",
    "#return the highest ranked sentence as an extractive summary\n",
    "\n",
    "def "
   ]
  },
  {
   "cell_type": "code",
   "execution_count": 12,
   "metadata": {},
   "outputs": [],
   "source": [
    "#compare the similarity between your summary with each human-annotator's summary and return an average\n",
    "#use jaccards simialrity "
   ]
  }
 ],
 "metadata": {
  "kernelspec": {
   "display_name": "Python 3",
   "language": "python",
   "name": "python3"
  },
  "language_info": {
   "codemirror_mode": {
    "name": "ipython",
    "version": 3
   },
   "file_extension": ".py",
   "mimetype": "text/x-python",
   "name": "python",
   "nbconvert_exporter": "python",
   "pygments_lexer": "ipython3",
   "version": "3.7.4"
  },
  "latex_envs": {
   "LaTeX_envs_menu_present": true,
   "autoclose": false,
   "autocomplete": true,
   "bibliofile": "biblio.bib",
   "cite_by": "apalike",
   "current_citInitial": 1,
   "eqLabelWithNumbers": true,
   "eqNumInitial": 1,
   "hotkeys": {
    "equation": "Ctrl-E",
    "itemize": "Ctrl-I"
   },
   "labels_anchors": false,
   "latex_user_defs": false,
   "report_style_numbering": false,
   "user_envs_cfg": false
  }
 },
 "nbformat": 4,
 "nbformat_minor": 2
}
